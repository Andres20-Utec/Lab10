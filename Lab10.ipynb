{
  "nbformat": 4,
  "nbformat_minor": 0,
  "metadata": {
    "colab": {
      "provenance": []
    },
    "kernelspec": {
      "name": "python3",
      "display_name": "Python 3"
    },
    "language_info": {
      "name": "python"
    }
  },
  "cells": [
    {
      "cell_type": "code",
      "execution_count": 29,
      "metadata": {
        "colab": {
          "base_uri": "https://localhost:8080/"
        },
        "id": "JdOljGPAKMmw",
        "outputId": "47d3279a-2c3c-4329-9b12-1777be84feb7"
      },
      "outputs": [
        {
          "output_type": "stream",
          "name": "stdout",
          "text": [
            "Looking in indexes: https://pypi.org/simple, https://us-python.pkg.dev/colab-wheels/public/simple/\n",
            "Requirement already satisfied: pyspark in /usr/local/lib/python3.10/dist-packages (3.4.0)\n",
            "Requirement already satisfied: py4j==0.10.9.7 in /usr/local/lib/python3.10/dist-packages (from pyspark) (0.10.9.7)\n"
          ]
        }
      ],
      "source": [
        "!pip install pyspark"
      ]
    },
    {
      "cell_type": "code",
      "source": [
        "! pip install gdown\n",
        "\n",
        "import gdown\n",
        "\n",
        "url = 'https://drive.google.com/drive/folders/1yjunPAhC2hNS5JbfP04r3dw3Y5w13fFE?usp=sharing'\n",
        "gdown.download_folder(url)"
      ],
      "metadata": {
        "colab": {
          "base_uri": "https://localhost:8080/"
        },
        "id": "WBUaPPFpKOR6",
        "outputId": "70cdc5e0-1326-41fa-804e-8ce62c2df210"
      },
      "execution_count": 30,
      "outputs": [
        {
          "output_type": "stream",
          "name": "stdout",
          "text": [
            "Looking in indexes: https://pypi.org/simple, https://us-python.pkg.dev/colab-wheels/public/simple/\n",
            "Requirement already satisfied: gdown in /usr/local/lib/python3.10/dist-packages (4.6.6)\n",
            "Requirement already satisfied: filelock in /usr/local/lib/python3.10/dist-packages (from gdown) (3.12.0)\n",
            "Requirement already satisfied: requests[socks] in /usr/local/lib/python3.10/dist-packages (from gdown) (2.27.1)\n",
            "Requirement already satisfied: six in /usr/local/lib/python3.10/dist-packages (from gdown) (1.16.0)\n",
            "Requirement already satisfied: tqdm in /usr/local/lib/python3.10/dist-packages (from gdown) (4.65.0)\n",
            "Requirement already satisfied: beautifulsoup4 in /usr/local/lib/python3.10/dist-packages (from gdown) (4.11.2)\n",
            "Requirement already satisfied: soupsieve>1.2 in /usr/local/lib/python3.10/dist-packages (from beautifulsoup4->gdown) (2.4.1)\n",
            "Requirement already satisfied: urllib3<1.27,>=1.21.1 in /usr/local/lib/python3.10/dist-packages (from requests[socks]->gdown) (1.26.15)\n",
            "Requirement already satisfied: certifi>=2017.4.17 in /usr/local/lib/python3.10/dist-packages (from requests[socks]->gdown) (2022.12.7)\n",
            "Requirement already satisfied: charset-normalizer~=2.0.0 in /usr/local/lib/python3.10/dist-packages (from requests[socks]->gdown) (2.0.12)\n",
            "Requirement already satisfied: idna<4,>=2.5 in /usr/local/lib/python3.10/dist-packages (from requests[socks]->gdown) (3.4)\n",
            "Requirement already satisfied: PySocks!=1.5.7,>=1.5.6 in /usr/local/lib/python3.10/dist-packages (from requests[socks]->gdown) (1.7.1)\n"
          ]
        },
        {
          "output_type": "stream",
          "name": "stderr",
          "text": [
            "Retrieving folder list\n"
          ]
        },
        {
          "output_type": "stream",
          "name": "stdout",
          "text": [
            "Processing file 1QxXGrfPUYUCneZIX8GOC_AsylpzsBL7G customer.parquet\n",
            "Processing file 1GiF7rIGsNy66xz1vlWir5Pz5mNk-0-Rk lineitem.parquet\n",
            "Processing file 1kDRUf69Lmfr4z3RzexvpKFPyT_xuOw9U nation.parquet\n",
            "Processing file 1XZP_FEwg5_ba82xABUl9NKj7wJYBUFGw orders.parquet\n",
            "Processing file 1CngEN2ASzLNnfbrxvQKgZfk580tOSHcG part.parquet\n",
            "Processing file 1FwXPNnlyIAAj2zfyQo-dn_AH8WBSFbcI partsupp.parquet\n",
            "Processing file 1oaTl_fgK_yu0EQFH3pIoo0nC8GysIhQe region.parquet\n",
            "Processing file 1fE3TqCiTFW8RmKcW6fvK9SJu95Rws1_l supplier.parquet\n",
            "Building directory structure completed\n"
          ]
        },
        {
          "output_type": "stream",
          "name": "stderr",
          "text": [
            "Retrieving folder list completed\n",
            "Building directory structure\n",
            "Downloading...\n",
            "From: https://drive.google.com/uc?id=1QxXGrfPUYUCneZIX8GOC_AsylpzsBL7G\n",
            "To: /content/Parquet1GB/customer.parquet\n",
            "100%|██████████| 13.4M/13.4M [00:00<00:00, 103MB/s] \n",
            "Downloading...\n",
            "From: https://drive.google.com/uc?id=1GiF7rIGsNy66xz1vlWir5Pz5mNk-0-Rk\n",
            "To: /content/Parquet1GB/lineitem.parquet\n",
            "100%|██████████| 206M/206M [00:02<00:00, 81.6MB/s]\n",
            "Downloading...\n",
            "From: https://drive.google.com/uc?id=1kDRUf69Lmfr4z3RzexvpKFPyT_xuOw9U\n",
            "To: /content/Parquet1GB/nation.parquet\n",
            "100%|██████████| 5.54k/5.54k [00:00<00:00, 373kB/s]\n",
            "Downloading...\n",
            "From: https://drive.google.com/uc?id=1XZP_FEwg5_ba82xABUl9NKj7wJYBUFGw\n",
            "To: /content/Parquet1GB/orders.parquet\n",
            "100%|██████████| 53.9M/53.9M [00:00<00:00, 136MB/s]\n",
            "Downloading...\n",
            "From: https://drive.google.com/uc?id=1CngEN2ASzLNnfbrxvQKgZfk580tOSHcG\n",
            "To: /content/Parquet1GB/part.parquet\n",
            "100%|██████████| 6.72M/6.72M [00:00<00:00, 128MB/s]\n",
            "Downloading...\n",
            "From: https://drive.google.com/uc?id=1FwXPNnlyIAAj2zfyQo-dn_AH8WBSFbcI\n",
            "To: /content/Parquet1GB/partsupp.parquet\n",
            "100%|██████████| 41.3M/41.3M [00:00<00:00, 158MB/s]\n",
            "Downloading...\n",
            "From: https://drive.google.com/uc?id=1oaTl_fgK_yu0EQFH3pIoo0nC8GysIhQe\n",
            "To: /content/Parquet1GB/region.parquet\n",
            "100%|██████████| 3.62k/3.62k [00:00<00:00, 1.39MB/s]\n",
            "Downloading...\n",
            "From: https://drive.google.com/uc?id=1fE3TqCiTFW8RmKcW6fvK9SJu95Rws1_l\n",
            "To: /content/Parquet1GB/supplier.parquet\n",
            "100%|██████████| 912k/912k [00:00<00:00, 81.7MB/s]\n",
            "Download completed\n"
          ]
        },
        {
          "output_type": "execute_result",
          "data": {
            "text/plain": [
              "['/content/Parquet1GB/customer.parquet',\n",
              " '/content/Parquet1GB/lineitem.parquet',\n",
              " '/content/Parquet1GB/nation.parquet',\n",
              " '/content/Parquet1GB/orders.parquet',\n",
              " '/content/Parquet1GB/part.parquet',\n",
              " '/content/Parquet1GB/partsupp.parquet',\n",
              " '/content/Parquet1GB/region.parquet',\n",
              " '/content/Parquet1GB/supplier.parquet']"
            ]
          },
          "metadata": {},
          "execution_count": 30
        }
      ]
    },
    {
      "cell_type": "code",
      "source": [
        "import pandas as pd\n",
        "import numpy as np\n",
        "\n",
        "from pyspark.sql import SparkSession"
      ],
      "metadata": {
        "id": "UC4xA-43KQxj"
      },
      "execution_count": 92,
      "outputs": []
    },
    {
      "cell_type": "code",
      "source": [
        "spark = SparkSession.builder \\\n",
        "    .appName(\"Read Parquet File\") \\\n",
        "    .getOrCreate()"
      ],
      "metadata": {
        "id": "wMSnfL43KSzt"
      },
      "execution_count": 93,
      "outputs": []
    },
    {
      "cell_type": "code",
      "source": [
        "path = \"/content/Parquet1GB\"\n",
        "customer = spark.read.parquet(path + \"/customer.parquet\")\n",
        "lineitem = spark.read.parquet(path +\"/lineitem.parquet\")\n",
        "nation = spark.read.parquet(path +\"/nation.parquet\")\n",
        "orders = spark.read.parquet(path +\"/orders.parquet\")\n",
        "part = spark.read.parquet(path +\"/part.parquet\")\n",
        "partsupp = spark.read.parquet(path +\"/partsupp.parquet\")\n",
        "region = spark.read.parquet(path +\"/region.parquet\")\n",
        "supplier = spark.read.parquet(path +\"/supplier.parquet\")\n",
        "# Parquet files can also be used to create a temporary view and then used in SQL statements.\n",
        "\n",
        "#teenagers = ps.sql(\"SELECT name FROM parquetFile WHERE age >= 13 AND age <= 19\")"
      ],
      "metadata": {
        "id": "qLHWil3rKW-m"
      },
      "execution_count": 94,
      "outputs": []
    },
    {
      "cell_type": "code",
      "source": [
        "customer.createOrReplaceTempView(\"customer\")\n",
        "lineitem.createOrReplaceTempView(\"lineitem\")\n",
        "nation.createOrReplaceTempView(\"nation\")\n",
        "orders.createOrReplaceTempView(\"orders\")\n",
        "part.createOrReplaceTempView(\"part\")\n",
        "partsupp.createOrReplaceTempView(\"partsupp\")\n",
        "region.createOrReplaceTempView(\"region\")\n",
        "supplier.createOrReplaceTempView(\"supplier\")"
      ],
      "metadata": {
        "id": "HOUrwJObKgo0"
      },
      "execution_count": 95,
      "outputs": []
    },
    {
      "cell_type": "code",
      "source": [
        "query = '''\n",
        "select\n",
        "\t100.00 * sum(case\n",
        "\t\twhen p_type like 'PROMO%'\n",
        "\t\t\tthen l_extendedprice * (1 - l_discount)\n",
        "\t\telse 0\n",
        "\tend) / sum(l_extendedprice * (1 - l_discount)) as promo_revenue\n",
        "from\n",
        "\tlineitem,\n",
        "\tpart\n",
        "where\n",
        "\tl_partkey = p_partkey\n",
        "\tand l_shipdate >= date '1995-09-01'\n",
        "\tand l_shipdate < date '1995-09-01' + interval '1' month;\n",
        "'''"
      ],
      "metadata": {
        "id": "2bQIF7fFKjYV"
      },
      "execution_count": 96,
      "outputs": []
    },
    {
      "cell_type": "code",
      "source": [
        "def getPromedio(n_iter, query):\n",
        "    times = []\n",
        "    for i in range(n_iter):\n",
        "        tiempo_inicio = time.time()\n",
        "\n",
        "        # Código que deseas medir\n",
        "        result = spark.sql(query)\n",
        "\n",
        "        # Obtener el tiempo de finalización\n",
        "        tiempo_final = time.time()\n",
        "\n",
        "        # Calcular la duración en segundos\n",
        "        duracion = tiempo_final - tiempo_inicio\n",
        "        times.append(duracion)\n",
        "\n",
        "    return sum(times) / n_iter\n",
        "\n",
        "sparkSQLDuration = getPromedio(10, query)"
      ],
      "metadata": {
        "id": "SHKa1OdOSplX"
      },
      "execution_count": 97,
      "outputs": []
    },
    {
      "cell_type": "code",
      "source": [
        "sparkSQLDuration"
      ],
      "metadata": {
        "colab": {
          "base_uri": "https://localhost:8080/"
        },
        "id": "xEwhRdM_V50w",
        "outputId": "c86ef2fc-c76e-4ef6-fcd1-b096eb1321c4"
      },
      "execution_count": 98,
      "outputs": [
        {
          "output_type": "execute_result",
          "data": {
            "text/plain": [
              "0.08843235969543457"
            ]
          },
          "metadata": {},
          "execution_count": 98
        }
      ]
    },
    {
      "cell_type": "code",
      "source": [
        "import time\n",
        "\n",
        "# Obtener el tiempo de inicio\n",
        "tiempo_inicio = time.time()\n",
        "\n",
        "# Código que deseas medir\n",
        "result = spark.sql(query)\n",
        "\n",
        "# Obtener el tiempo de finalización\n",
        "tiempo_final = time.time()\n",
        "\n",
        "# Calcular la duración en segundos\n",
        "duracion = tiempo_final - tiempo_inicio\n",
        "\n",
        "print(f\"Tiempo de inicio: {tiempo_inicio}\")\n",
        "print(f\"Tiempo de finalización: {tiempo_final}\")\n",
        "print(f\"Duración: {duracion} segundos\")"
      ],
      "metadata": {
        "colab": {
          "base_uri": "https://localhost:8080/"
        },
        "id": "cVOicvrOKk9_",
        "outputId": "70b0bbd7-04cd-40dd-be96-4f0ca0b3f312"
      },
      "execution_count": 99,
      "outputs": [
        {
          "output_type": "stream",
          "name": "stdout",
          "text": [
            "Tiempo de inicio: 1686971627.807309\n",
            "Tiempo de finalización: 1686971627.8370528\n",
            "Duración: 0.02974390983581543 segundos\n"
          ]
        }
      ]
    },
    {
      "cell_type": "code",
      "source": [
        "result.show()"
      ],
      "metadata": {
        "colab": {
          "base_uri": "https://localhost:8080/"
        },
        "id": "v2LfYc3YKmjN",
        "outputId": "eb217e03-13ea-487d-fea6-b0d82927a1d4"
      },
      "execution_count": 100,
      "outputs": [
        {
          "output_type": "stream",
          "name": "stdout",
          "text": [
            "+------------------+\n",
            "|     promo_revenue|\n",
            "+------------------+\n",
            "|16.380778626395674|\n",
            "+------------------+\n",
            "\n"
          ]
        }
      ]
    },
    {
      "cell_type": "code",
      "source": [
        "result.explain()"
      ],
      "metadata": {
        "colab": {
          "base_uri": "https://localhost:8080/"
        },
        "id": "PuiO5xB3KpHl",
        "outputId": "2af0cd08-2f21-417c-e9a5-1a4878ce2063"
      },
      "execution_count": 101,
      "outputs": [
        {
          "output_type": "stream",
          "name": "stdout",
          "text": [
            "== Physical Plan ==\n",
            "AdaptiveSparkPlan isFinalPlan=false\n",
            "+- HashAggregate(keys=[], functions=[sum(CASE WHEN StartsWith(p_type#7938, PROMO) THEN (l_extendedprice#7881 * (1.0 - l_discount#7882)) ELSE 0.0 END), sum((l_extendedprice#7881 * (1.0 - l_discount#7882)))])\n",
            "   +- Exchange SinglePartition, ENSURE_REQUIREMENTS, [plan_id=4677]\n",
            "      +- HashAggregate(keys=[], functions=[partial_sum(CASE WHEN StartsWith(p_type#7938, PROMO) THEN (l_extendedprice#7881 * (1.0 - l_discount#7882)) ELSE 0.0 END), partial_sum((l_extendedprice#7881 * (1.0 - l_discount#7882)))])\n",
            "         +- Project [l_extendedprice#7881, l_discount#7882, p_type#7938]\n",
            "            +- BroadcastHashJoin [l_partkey#7877L], [p_partkey#7934L], Inner, BuildRight, false\n",
            "               :- Project [l_partkey#7877L, l_extendedprice#7881, l_discount#7882]\n",
            "               :  +- Filter (((isnotnull(l_shipdate#7886) AND (cast(l_shipdate#7886 as date) >= 1995-09-01)) AND (cast(l_shipdate#7886 as date) < 1995-10-01)) AND isnotnull(l_partkey#7877L))\n",
            "               :     +- FileScan parquet [l_partkey#7877L,l_extendedprice#7881,l_discount#7882,l_shipdate#7886] Batched: true, DataFilters: [isnotnull(l_shipdate#7886), (cast(l_shipdate#7886 as date) >= 1995-09-01), (cast(l_shipdate#7886..., Format: Parquet, Location: InMemoryFileIndex(1 paths)[file:/content/Parquet1GB/lineitem.parquet], PartitionFilters: [], PushedFilters: [IsNotNull(l_shipdate), IsNotNull(l_partkey)], ReadSchema: struct<l_partkey:bigint,l_extendedprice:double,l_discount:double,l_shipdate:string>\n",
            "               +- BroadcastExchange HashedRelationBroadcastMode(List(input[0, bigint, false]),false), [plan_id=4672]\n",
            "                  +- Filter isnotnull(p_partkey#7934L)\n",
            "                     +- FileScan parquet [p_partkey#7934L,p_type#7938] Batched: true, DataFilters: [isnotnull(p_partkey#7934L)], Format: Parquet, Location: InMemoryFileIndex(1 paths)[file:/content/Parquet1GB/part.parquet], PartitionFilters: [], PushedFilters: [IsNotNull(p_partkey)], ReadSchema: struct<p_partkey:bigint,p_type:string>\n",
            "\n",
            "\n"
          ]
        }
      ]
    },
    {
      "cell_type": "code",
      "source": [
        "spark.stop()"
      ],
      "metadata": {
        "id": "KLqEAvvnKqk1"
      },
      "execution_count": 102,
      "outputs": []
    },
    {
      "cell_type": "code",
      "source": [
        "import pyspark.pandas as ps"
      ],
      "metadata": {
        "id": "RXwHFjvUKse3"
      },
      "execution_count": 103,
      "outputs": []
    },
    {
      "cell_type": "code",
      "source": [
        "# They are Dataframes\n",
        "path = \"/content/Parquet1GB\"\n",
        "customer = ps.read_parquet(path + \"/customer.parquet\")\n",
        "lineitem = ps.read_parquet(path +\"/lineitem.parquet\")\n",
        "nation = ps.read_parquet(path +\"/nation.parquet\")\n",
        "orders = ps.read_parquet(path +\"/orders.parquet\")\n",
        "part = ps.read_parquet(path +\"/part.parquet\")\n",
        "partsupp = ps.read_parquet(path +\"/partsupp.parquet\")\n",
        "region = ps.read_parquet(path +\"/region.parquet\")\n",
        "supplier = ps.read_parquet(path +\"/supplier.parquet\")\n",
        "# Parquet files can also be used to create a temporary view and then used in SQL statements.\n",
        "\n",
        "#teenagers = ps.sql(\"SELECT name FROM parquetFile WHERE age >= 13 AND age <= 19\")\n"
      ],
      "metadata": {
        "colab": {
          "base_uri": "https://localhost:8080/"
        },
        "id": "FLtrloVpKvud",
        "outputId": "969f8ee1-946e-4525-e309-8ff7141033d4"
      },
      "execution_count": 104,
      "outputs": [
        {
          "output_type": "stream",
          "name": "stderr",
          "text": [
            "/usr/local/lib/python3.10/dist-packages/pyspark/pandas/utils.py:975: PandasAPIOnSparkAdviceWarning: If `index_col` is not specified for `read_parquet`, the default index is attached which can cause additional overhead.\n",
            "  warnings.warn(message, PandasAPIOnSparkAdviceWarning)\n"
          ]
        }
      ]
    },
    {
      "cell_type": "code",
      "source": [
        "def getPromedioN(n_iter):\n",
        "    times = []\n",
        "    for i in range(n_iter):\n",
        "        tiempo_inicio = time.time()\n",
        "\n",
        "        # Convertir las columnas de fecha a tipo datetime\n",
        "        lineitem[\"l_shipdate\"] = ps.to_datetime(lineitem[\"l_shipdate\"])\n",
        "\n",
        "        # Filtrar los datos según las condiciones de la consulta\n",
        "        filtered_df = lineitem.merge(part, left_on=\"l_partkey\", right_on=\"p_partkey\")\n",
        "        filtered_df = filtered_df[(filtered_df[\"l_shipdate\"] >= \"1995-09-01\") & (filtered_df[\"l_shipdate\"] < \"1995-10-01\")]\n",
        "\n",
        "        # Calcular la columna \"promo_revenue\" según la lógica de la consulta\n",
        "        promo_revenue = (100.00 * ((filtered_df[\"p_type\"].str.startswith(\"PROMO\")).astype(float) * filtered_df[\"l_extendedprice\"] * (1 - filtered_df[\"l_discount\"])).sum()) / ((filtered_df[\"l_extendedprice\"] * (1 - filtered_df[\"l_discount\"])).sum())\n",
        "        # Obtener el tiempo de finalización\n",
        "        tiempo_final = time.time()\n",
        "\n",
        "        # Calcular la duración en segundos\n",
        "        duracion = tiempo_final - tiempo_inicio\n",
        "        times.append(duracion)\n",
        "\n",
        "    return sum(times) / n_iter\n",
        "\n",
        "sparkDuration = getPromedioN(10)"
      ],
      "metadata": {
        "id": "QeffhUz1Tbir"
      },
      "execution_count": null,
      "outputs": []
    },
    {
      "cell_type": "code",
      "source": [
        "import matplotlib.pyplot as plt\n",
        "\n",
        "# Datos de ejemplo\n",
        "valores = [sparkSQLDuration, sparkDuration]\n",
        "nombres = ['SparkSQL', 'SparkPandas']\n",
        "\n",
        "# Crear la figura y el eje\n",
        "fig, ax = plt.subplots()\n",
        "\n",
        "# Crear el gráfico de barras\n",
        "ax.bar(nombres, valores)\n",
        "\n",
        "# Agregar etiquetas a cada barra\n",
        "for i, v in enumerate(valores):\n",
        "    ax.text(i, v + 0.1, str(v), ha='center')\n",
        "\n",
        "# Personalizar el gráfico\n",
        "ax.set_xlabel('Nombres')\n",
        "ax.set_ylabel('Valores')\n",
        "ax.set_title('Gráfico de barras')\n",
        "\n",
        "# Mostrar el gráfico\n",
        "plt.show()"
      ],
      "metadata": {
        "colab": {
          "base_uri": "https://localhost:8080/",
          "height": 472
        },
        "id": "E0FRSaWvWMP4",
        "outputId": "fb83286e-913a-4ba2-94a6-021e6ba50d81"
      },
      "execution_count": 106,
      "outputs": [
        {
          "output_type": "display_data",
          "data": {
            "text/plain": [
              "<Figure size 640x480 with 1 Axes>"
            ],
            "image/png": "[encoded data removed]"
          },
          "metadata": {}
        }
      ]
    },
    {
      "cell_type": "code",
      "source": [],
      "metadata": {
        "id": "muDR9nDMLhi8"
      },
      "execution_count": null,
      "outputs": []
    }
  ]
}